{
 "cells": [
  {
   "cell_type": "code",
   "execution_count": 1,
   "id": "9a1f933f",
   "metadata": {},
   "outputs": [
    {
     "name": "stdout",
     "output_type": "stream",
     "text": [
      "I am not malicious!\n"
     ]
    }
   ],
   "source": [
    "def non_malicious_function():\n",
    "    print(\"I am not malicious!\")\n",
    "    \n",
    "def main():\n",
    "    non_malicious_function()\n",
    "\n",
    "if __name__ == \"__main__\":\n",
    "    main()"
   ]
  },
  {
   "cell_type": "code",
   "execution_count": null,
   "id": "400d68b3",
   "metadata": {},
   "outputs": [],
   "source": [
    "def malicious_function():\n",
    "    print(\"I am malicious!\")\n",
    "    i = 0\n",
    "    while True:\n",
    "        i = i + 1\n",
    "    \n",
    "def main():\n",
    "    malicious_function()\n",
    "\n",
    "if __name__ == \"__main__\":\n",
    "    main()"
   ]
  },
  {
   "cell_type": "code",
   "execution_count": 5,
   "id": "8677ac07",
   "metadata": {
    "scrolled": true
   },
   "outputs": [
    {
     "name": "stdout",
     "output_type": "stream",
     "text": [
      "773feb81357a3de1f54d48129e19612607245c00\n",
      "\n"
     ]
    }
   ],
   "source": [
    "import os\n",
    "import glob\n",
    "import hashlib\n",
    "\n",
    "def hash_malicious_files():\n",
    "    digests = open(\"digests.txt\", \"w\")\n",
    "    for file in glob.glob(\"*.py\"):\n",
    "        f = open(\"./\" + file, \"r\")\n",
    "        m = hashlib.sha1(f.read().encode()).hexdigest()\n",
    "#         print(m)\n",
    "        digests.write(m + \"\\n\")\n",
    "    digests.close()\n",
    "    \n",
    "def main():\n",
    "    hash_malicious_files()\n",
    "    f = open(\"./digests.txt\", 'r')\n",
    "    print(f.read())\n",
    "\n",
    "if __name__ == \"__main__\":\n",
    "    main()"
   ]
  },
  {
   "cell_type": "code",
   "execution_count": 21,
   "id": "635e0e83",
   "metadata": {},
   "outputs": [
    {
     "name": "stdout",
     "output_type": "stream",
     "text": [
      "/media/abdullah/USB Stick ==>> USB is safe!\n",
      "/media/abdullah/FLASH DRIVE ==>> MALICIOUS CODE FOUND!\n"
     ]
    }
   ],
   "source": [
    "import os\n",
    "import time\n",
    "import pyudev\n",
    "import glob\n",
    "import hashlib\n",
    "\n",
    "def getListOfFiles(dirName):\n",
    "    listOfFile = os.listdir(dirName)\n",
    "    allFiles = list()\n",
    "    for entry in listOfFile:\n",
    "        fullPath = os.path.join(dirName, entry)\n",
    "        if os.path.isdir(fullPath):\n",
    "            allFiles = allFiles + getListOfFiles(fullPath)\n",
    "        else:\n",
    "            if fullPath[-3:] == '.py':\n",
    "                allFiles.append(fullPath)\n",
    "    return allFiles\n",
    "\n",
    "def generate_hashes(path, hashed_list):\n",
    "    for file in getListOfFiles(path):\n",
    "#         print(file)\n",
    "        f = open(file, \"r\")\n",
    "        m = hashlib.sha1(f.read().encode()).hexdigest()\n",
    "        hashed_list.append(m)\n",
    "    hashed_list = list(dict.fromkeys(hashed_list))    \n",
    "#     print(hashed_list)\n",
    "        \n",
    "def match_hashes(malicious_hashed_path, hashed_list, fullPath, output):\n",
    "    mal_list = []\n",
    "    file = open(malicious_hashed_path, \"r\")\n",
    "    lines = file.readlines()\n",
    "    for line in lines:\n",
    "        mal_list.append(line)\n",
    "    for digest in hashed_list:\n",
    "        digest = digest + '\\n'\n",
    "#         print(digest)\n",
    "        if digest in mal_list:\n",
    "#             print('MALICIOUS CODE FOUND!')\n",
    "            output.append(fullPath + \" ==>> MALICIOUS CODE FOUND!\")\n",
    "            return\n",
    "#     print('USB is safe!')\n",
    "    output.append(fullPath + \" ==>> USB is safe!\")\n",
    "\n",
    "def main():\n",
    "    context = pyudev.Context()\n",
    "    monitor = pyudev.Monitor.from_netlink(context)\n",
    "    monitor.filter_by(subsystem='usb')\n",
    "    output = []\n",
    "\n",
    "    for device in iter(monitor.poll, None):\n",
    "        if device.action == 'add':\n",
    "            # ACTIONS\n",
    "            time.sleep(7)\n",
    "            for folder in os.listdir(\"/media/abdullah/\"):\n",
    "                hashed_list = []\n",
    "                fullPath = os.path.join(\"/media/abdullah/\", folder)\n",
    "#                 print(fullPath)\n",
    "                if os.path.isdir(fullPath):\n",
    "#                     print(fullPath)\n",
    "                    generate_hashes(fullPath, hashed_list)\n",
    "                    match_hashes(\"digests.txt\", hashed_list, fullPath, output)\n",
    "        break\n",
    "    output = list(dict.fromkeys(output))\n",
    "    for o in output:\n",
    "        print(o)\n",
    "        \n",
    "if __name__ == \"__main__\":\n",
    "    main()\n"
   ]
  },
  {
   "cell_type": "code",
   "execution_count": null,
   "id": "f6d50c46",
   "metadata": {},
   "outputs": [],
   "source": []
  }
 ],
 "metadata": {
  "kernelspec": {
   "display_name": "Python 3 (ipykernel)",
   "language": "python",
   "name": "python3"
  },
  "language_info": {
   "codemirror_mode": {
    "name": "ipython",
    "version": 3
   },
   "file_extension": ".py",
   "mimetype": "text/x-python",
   "name": "python",
   "nbconvert_exporter": "python",
   "pygments_lexer": "ipython3",
   "version": "3.8.10"
  }
 },
 "nbformat": 4,
 "nbformat_minor": 5
}
